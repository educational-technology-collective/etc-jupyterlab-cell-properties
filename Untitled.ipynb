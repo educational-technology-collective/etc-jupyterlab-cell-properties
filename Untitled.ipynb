{
 "cells": [
  {
   "cell_type": "code",
   "execution_count": null,
   "id": "353cb401-5bbc-4bae-95cf-08859eee8f84",
   "metadata": {
    "@educational-technology-collective/etc_jupyterlab_cell_properties:plugin": {
     "style": {
      "background": "#FFCB05",
      "border": "solid #00274B 10px"
     },
     "tags": []
    },
    "tags": []
   },
   "outputs": [],
   "source": []
  }
 ],
 "metadata": {
  "kernelspec": {
   "display_name": "Python 3 (ipykernel)",
   "language": "python",
   "name": "python3"
  },
  "language_info": {
   "codemirror_mode": {
    "name": "ipython",
    "version": 3
   },
   "file_extension": ".py",
   "mimetype": "text/x-python",
   "name": "python",
   "nbconvert_exporter": "python",
   "pygments_lexer": "ipython3",
   "version": "3.9.5"
  }
 },
 "nbformat": 4,
 "nbformat_minor": 5
}
